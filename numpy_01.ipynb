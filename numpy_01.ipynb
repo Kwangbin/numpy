{
  "nbformat": 4,
  "nbformat_minor": 0,
  "metadata": {
    "colab": {
      "name": "numpy_01.ipynb",
      "provenance": [],
      "authorship_tag": "ABX9TyO6IM+PDxFdTqH3Aoq+6E75",
      "include_colab_link": true
    },
    "kernelspec": {
      "name": "python3",
      "display_name": "Python 3"
    },
    "language_info": {
      "name": "python"
    }
  },
  "cells": [
    {
      "cell_type": "markdown",
      "metadata": {
        "id": "view-in-github",
        "colab_type": "text"
      },
      "source": [
        "<a href=\"https://colab.research.google.com/github/Kwangbin/numpy/blob/main/numpy_01.ipynb\" target=\"_parent\"><img src=\"https://colab.research.google.com/assets/colab-badge.svg\" alt=\"Open In Colab\"/></a>"
      ]
    },
    {
      "cell_type": "code",
      "execution_count": null,
      "metadata": {
        "id": "aA1SDkVbu4Eb"
      },
      "outputs": [],
      "source": [
        "import numpy as np"
      ]
    },
    {
      "cell_type": "code",
      "source": [
        "np.arange(15)"
      ],
      "metadata": {
        "colab": {
          "base_uri": "https://localhost:8080/"
        },
        "id": "J5P8-Uffu_jL",
        "outputId": "f09fcddc-24a3-48dc-c85c-4bfe11b0e09c"
      },
      "execution_count": null,
      "outputs": [
        {
          "output_type": "execute_result",
          "data": {
            "text/plain": [
              "array([ 0,  1,  2,  3,  4,  5,  6,  7,  8,  9, 10, 11, 12, 13, 14])"
            ]
          },
          "metadata": {},
          "execution_count": 2
        }
      ]
    },
    {
      "cell_type": "code",
      "source": [
        "np.arange(15,dtype=np.int64)"
      ],
      "metadata": {
        "colab": {
          "base_uri": "https://localhost:8080/"
        },
        "id": "ZAHVr72MvF0y",
        "outputId": "f999d7a2-24d3-4dd9-893c-b6f351c777cd"
      },
      "execution_count": null,
      "outputs": [
        {
          "output_type": "execute_result",
          "data": {
            "text/plain": [
              "array([ 0,  1,  2,  3,  4,  5,  6,  7,  8,  9, 10, 11, 12, 13, 14])"
            ]
          },
          "metadata": {},
          "execution_count": 3
        }
      ]
    },
    {
      "cell_type": "code",
      "source": [
        "x=np.arange(15,dtype=np.int64)"
      ],
      "metadata": {
        "id": "mLxKvSST2ZCj"
      },
      "execution_count": null,
      "outputs": []
    },
    {
      "cell_type": "code",
      "source": [
        "x"
      ],
      "metadata": {
        "colab": {
          "base_uri": "https://localhost:8080/"
        },
        "id": "dD7nOdsz2dkJ",
        "outputId": "a6dadde3-4df4-4492-b346-cda16dfef6f2"
      },
      "execution_count": null,
      "outputs": [
        {
          "output_type": "execute_result",
          "data": {
            "text/plain": [
              "array([ 0,  1,  2,  3,  4,  5,  6,  7,  8,  9, 10, 11, 12, 13, 14])"
            ]
          },
          "metadata": {},
          "execution_count": 5
        }
      ]
    },
    {
      "cell_type": "code",
      "source": [
        "x.reshape(3,5)"
      ],
      "metadata": {
        "colab": {
          "base_uri": "https://localhost:8080/"
        },
        "id": "VeVVLUuj2ee7",
        "outputId": "a1f83d56-3fd8-47f5-c529-84620e5a4230"
      },
      "execution_count": null,
      "outputs": [
        {
          "output_type": "execute_result",
          "data": {
            "text/plain": [
              "array([[ 0,  1,  2,  3,  4],\n",
              "       [ 5,  6,  7,  8,  9],\n",
              "       [10, 11, 12, 13, 14]])"
            ]
          },
          "metadata": {},
          "execution_count": 6
        }
      ]
    },
    {
      "cell_type": "code",
      "source": [
        "x.shape"
      ],
      "metadata": {
        "colab": {
          "base_uri": "https://localhost:8080/"
        },
        "id": "sgT6gbQJ2h1y",
        "outputId": "30835c30-7cdf-4dba-99ee-b8e175a5cda8"
      },
      "execution_count": null,
      "outputs": [
        {
          "output_type": "execute_result",
          "data": {
            "text/plain": [
              "(15,)"
            ]
          },
          "metadata": {},
          "execution_count": 7
        }
      ]
    },
    {
      "cell_type": "code",
      "source": [
        "x.reshape(3,5).shape"
      ],
      "metadata": {
        "colab": {
          "base_uri": "https://localhost:8080/"
        },
        "id": "NPpqWdhV2ot8",
        "outputId": "bea8aae2-944b-4944-cfce-e448a924bf2c"
      },
      "execution_count": null,
      "outputs": [
        {
          "output_type": "execute_result",
          "data": {
            "text/plain": [
              "(3, 5)"
            ]
          },
          "metadata": {},
          "execution_count": 8
        }
      ]
    },
    {
      "cell_type": "code",
      "source": [
        "x"
      ],
      "metadata": {
        "colab": {
          "base_uri": "https://localhost:8080/"
        },
        "id": "L2ukfmTZqRYY",
        "outputId": "5465913d-45d8-4588-d779-0df2a73826f5"
      },
      "execution_count": null,
      "outputs": [
        {
          "output_type": "execute_result",
          "data": {
            "text/plain": [
              "array([ 0,  1,  2,  3,  4,  5,  6,  7,  8,  9, 10, 11, 12, 13, 14])"
            ]
          },
          "metadata": {},
          "execution_count": 9
        }
      ]
    },
    {
      "cell_type": "code",
      "source": [
        "x=x.reshape(3,5)"
      ],
      "metadata": {
        "id": "iPyge5u62u_z"
      },
      "execution_count": null,
      "outputs": []
    },
    {
      "cell_type": "code",
      "source": [
        "x"
      ],
      "metadata": {
        "colab": {
          "base_uri": "https://localhost:8080/"
        },
        "id": "g7-TKcFZ2wO5",
        "outputId": "298d3054-0cc0-48b2-f9be-546a92872105"
      },
      "execution_count": null,
      "outputs": [
        {
          "output_type": "execute_result",
          "data": {
            "text/plain": [
              "array([[ 0,  1,  2,  3,  4],\n",
              "       [ 5,  6,  7,  8,  9],\n",
              "       [10, 11, 12, 13, 14]])"
            ]
          },
          "metadata": {},
          "execution_count": 11
        }
      ]
    },
    {
      "cell_type": "code",
      "source": [
        "x[:]"
      ],
      "metadata": {
        "colab": {
          "base_uri": "https://localhost:8080/"
        },
        "id": "OAOAXut52wua",
        "outputId": "378f96dc-3b73-4839-f8ec-6014dfc0a7fc"
      },
      "execution_count": null,
      "outputs": [
        {
          "output_type": "execute_result",
          "data": {
            "text/plain": [
              "array([[ 0,  1,  2,  3,  4],\n",
              "       [ 5,  6,  7,  8,  9],\n",
              "       [10, 11, 12, 13, 14]])"
            ]
          },
          "metadata": {},
          "execution_count": 12
        }
      ]
    },
    {
      "cell_type": "code",
      "source": [
        "x[:,:]"
      ],
      "metadata": {
        "colab": {
          "base_uri": "https://localhost:8080/"
        },
        "id": "1NKV42gl3AGS",
        "outputId": "4b7ba73d-7777-47b1-e210-ac3ebc5e012f"
      },
      "execution_count": null,
      "outputs": [
        {
          "output_type": "execute_result",
          "data": {
            "text/plain": [
              "array([[ 0,  1,  2,  3,  4],\n",
              "       [ 5,  6,  7,  8,  9],\n",
              "       [10, 11, 12, 13, 14]])"
            ]
          },
          "metadata": {},
          "execution_count": 13
        }
      ]
    },
    {
      "cell_type": "code",
      "source": [
        "x[1:,:]"
      ],
      "metadata": {
        "colab": {
          "base_uri": "https://localhost:8080/"
        },
        "id": "brY3KGhr3Cnu",
        "outputId": "964ab197-46f0-4212-feb0-53881c3dba56"
      },
      "execution_count": null,
      "outputs": [
        {
          "output_type": "execute_result",
          "data": {
            "text/plain": [
              "array([[ 5,  6,  7,  8,  9],\n",
              "       [10, 11, 12, 13, 14]])"
            ]
          },
          "metadata": {},
          "execution_count": 14
        }
      ]
    },
    {
      "cell_type": "code",
      "source": [
        "# ::2   \n",
        "# start,stop, sterp  \n",
        "# 즉, 처음 , 끝, 2간격\n",
        "x[1:,::2]"
      ],
      "metadata": {
        "colab": {
          "base_uri": "https://localhost:8080/"
        },
        "id": "l5i_VbWr3JNp",
        "outputId": "8aa60072-f1c2-429b-e7c6-04c3099106b9"
      },
      "execution_count": null,
      "outputs": [
        {
          "output_type": "execute_result",
          "data": {
            "text/plain": [
              "array([[ 5,  7,  9],\n",
              "       [10, 12, 14]])"
            ]
          },
          "metadata": {},
          "execution_count": 15
        }
      ]
    },
    {
      "cell_type": "code",
      "source": [
        "#값 변경\n",
        "# 해당 되느 값 전부 99 변경\n",
        "x[1:,::2]=99"
      ],
      "metadata": {
        "id": "8gMiPKvf3N_R"
      },
      "execution_count": null,
      "outputs": []
    },
    {
      "cell_type": "code",
      "source": [
        "x"
      ],
      "metadata": {
        "colab": {
          "base_uri": "https://localhost:8080/"
        },
        "id": "IBgP_fky33qN",
        "outputId": "63934f24-83c7-4755-cdf4-ca25a1704426"
      },
      "execution_count": null,
      "outputs": [
        {
          "output_type": "execute_result",
          "data": {
            "text/plain": [
              "array([[ 0,  1,  2,  3,  4],\n",
              "       [99,  6, 99,  8, 99],\n",
              "       [99, 11, 99, 13, 99]])"
            ]
          },
          "metadata": {},
          "execution_count": 17
        }
      ]
    },
    {
      "cell_type": "code",
      "source": [
        "x[1:,::2]=-99"
      ],
      "metadata": {
        "id": "muVVCuvJ34aD"
      },
      "execution_count": null,
      "outputs": []
    },
    {
      "cell_type": "code",
      "source": [
        "x"
      ],
      "metadata": {
        "colab": {
          "base_uri": "https://localhost:8080/"
        },
        "id": "WLylMtuF4CHw",
        "outputId": "fcc944d6-c377-4389-dc6e-95a9c8dc36f7"
      },
      "execution_count": null,
      "outputs": [
        {
          "output_type": "execute_result",
          "data": {
            "text/plain": [
              "array([[  0,   1,   2,   3,   4],\n",
              "       [-99,   6, -99,   8, -99],\n",
              "       [-99,  11, -99,  13, -99]])"
            ]
          },
          "metadata": {},
          "execution_count": 19
        }
      ]
    },
    {
      "cell_type": "code",
      "source": [
        "x.max()"
      ],
      "metadata": {
        "colab": {
          "base_uri": "https://localhost:8080/"
        },
        "id": "2hrix6sb4C3H",
        "outputId": "e61e342b-f322-4748-abe6-0a69aa2081ee"
      },
      "execution_count": null,
      "outputs": [
        {
          "output_type": "execute_result",
          "data": {
            "text/plain": [
              "13"
            ]
          },
          "metadata": {},
          "execution_count": 20
        }
      ]
    },
    {
      "cell_type": "code",
      "source": [
        "# 축지정\n",
        "x.max(axis=1)"
      ],
      "metadata": {
        "colab": {
          "base_uri": "https://localhost:8080/"
        },
        "id": "nvQ7DdiP4Eks",
        "outputId": "dab1e665-4ece-470e-899e-765af2e7e386"
      },
      "execution_count": null,
      "outputs": [
        {
          "output_type": "execute_result",
          "data": {
            "text/plain": [
              "array([ 4,  8, 13])"
            ]
          },
          "metadata": {},
          "execution_count": 21
        }
      ]
    },
    {
      "cell_type": "code",
      "source": [
        "# 축지정\n",
        "x.max(axis=0)"
      ],
      "metadata": {
        "colab": {
          "base_uri": "https://localhost:8080/"
        },
        "id": "D3UdZ61V4NhH",
        "outputId": "0e7117d1-82dd-428d-f9b0-a9ab32c35c77"
      },
      "execution_count": null,
      "outputs": [
        {
          "output_type": "execute_result",
          "data": {
            "text/plain": [
              "array([ 0, 11,  2, 13,  4])"
            ]
          },
          "metadata": {},
          "execution_count": 22
        }
      ]
    },
    {
      "cell_type": "code",
      "source": [
        "#w정규분포 만들기\n",
        "np.random.default_rng()"
      ],
      "metadata": {
        "colab": {
          "base_uri": "https://localhost:8080/"
        },
        "id": "pxBNgkzd4RWz",
        "outputId": "83ed5746-b326-4011-a4ef-3772b9e6a787"
      },
      "execution_count": null,
      "outputs": [
        {
          "output_type": "execute_result",
          "data": {
            "text/plain": [
              "Generator(PCG64) at 0x7F3CEA2257D0"
            ]
          },
          "metadata": {},
          "execution_count": 23
        }
      ]
    },
    {
      "cell_type": "code",
      "source": [
        "rng=np.random.default_rng()"
      ],
      "metadata": {
        "id": "_33ZAWwg46f1"
      },
      "execution_count": null,
      "outputs": []
    },
    {
      "cell_type": "code",
      "source": [
        "samples=rng.normal(size=2500)"
      ],
      "metadata": {
        "id": "ZzM8qUSa5FsD"
      },
      "execution_count": null,
      "outputs": []
    },
    {
      "cell_type": "code",
      "source": [
        "samples"
      ],
      "metadata": {
        "id": "MD1sjrLz5TVZ",
        "outputId": "cef3c35a-b59e-439c-be41-31fef03188e6",
        "colab": {
          "base_uri": "https://localhost:8080/"
        }
      },
      "execution_count": null,
      "outputs": [
        {
          "output_type": "execute_result",
          "data": {
            "text/plain": [
              "array([-1.66513809, -1.29160781,  1.01769965, ...,  1.27112797,\n",
              "        0.08951476, -2.93823121])"
            ]
          },
          "metadata": {},
          "execution_count": 26
        }
      ]
    },
    {
      "cell_type": "markdown",
      "source": [
        "#Numpy Fast"
      ],
      "metadata": {
        "id": "pS6t1iOxBqBd"
      }
    },
    {
      "cell_type": "code",
      "source": [
        "import numpy as np"
      ],
      "metadata": {
        "id": "mO7h0nbM5Vd4"
      },
      "execution_count": null,
      "outputs": []
    },
    {
      "cell_type": "code",
      "source": [
        "a=np.arange(5)\n",
        "a"
      ],
      "metadata": {
        "colab": {
          "base_uri": "https://localhost:8080/"
        },
        "id": "b72D5MfcB4w9",
        "outputId": "e861b33d-8cb3-407a-a076-d8a40d81a3dd"
      },
      "execution_count": null,
      "outputs": [
        {
          "output_type": "execute_result",
          "data": {
            "text/plain": [
              "array([0, 1, 2, 3, 4])"
            ]
          },
          "metadata": {},
          "execution_count": 29
        }
      ]
    },
    {
      "cell_type": "code",
      "source": [
        "b= np.arange(5,10)\n",
        "b"
      ],
      "metadata": {
        "colab": {
          "base_uri": "https://localhost:8080/"
        },
        "id": "w6OlmYEBB0FN",
        "outputId": "1a69d031-7241-4649-bb77-4866d4533ca8"
      },
      "execution_count": null,
      "outputs": [
        {
          "output_type": "execute_result",
          "data": {
            "text/plain": [
              "array([5, 6, 7, 8, 9])"
            ]
          },
          "metadata": {},
          "execution_count": 30
        }
      ]
    },
    {
      "cell_type": "code",
      "source": [
        "#[] 는 빈 list생성\n",
        "c=[]\n",
        "for i in range(len(a)):\n",
        "    c.append(a[i]*b[i])"
      ],
      "metadata": {
        "id": "x_995hE4CD7F"
      },
      "execution_count": null,
      "outputs": []
    },
    {
      "cell_type": "code",
      "source": [
        "c"
      ],
      "metadata": {
        "colab": {
          "base_uri": "https://localhost:8080/"
        },
        "id": "5pxGNviOCSkV",
        "outputId": "3d431957-878b-439e-d37b-d007e8c8d392"
      },
      "execution_count": null,
      "outputs": [
        {
          "output_type": "execute_result",
          "data": {
            "text/plain": [
              "[0, 6, 14, 24, 36]"
            ]
          },
          "metadata": {},
          "execution_count": 35
        }
      ]
    },
    {
      "cell_type": "code",
      "source": [
        "#간결한 파이썬 코드\n",
        "c = a* b\n",
        "c"
      ],
      "metadata": {
        "colab": {
          "base_uri": "https://localhost:8080/"
        },
        "id": "n-uzAUK6CllV",
        "outputId": "f832e689-e5df-414a-dc39-f4720dfb4cab"
      },
      "execution_count": null,
      "outputs": [
        {
          "output_type": "execute_result",
          "data": {
            "text/plain": [
              "array([ 0,  6, 14, 24, 36])"
            ]
          },
          "metadata": {},
          "execution_count": 36
        }
      ]
    },
    {
      "cell_type": "markdown",
      "source": [
        "###속도측정"
      ],
      "metadata": {
        "id": "MhCg-BAkC_YV"
      }
    },
    {
      "cell_type": "code",
      "source": [
        "%%timeit\n",
        "c=[]\n",
        "for i in range(len(a)):\n",
        "    c.append(a[i]*b[i])"
      ],
      "metadata": {
        "colab": {
          "base_uri": "https://localhost:8080/"
        },
        "id": "9Z7Ve-HuCxKt",
        "outputId": "7217485b-bce8-4a41-a0af-7ad5f4144f4d"
      },
      "execution_count": null,
      "outputs": [
        {
          "output_type": "stream",
          "name": "stdout",
          "text": [
            "The slowest run took 12.81 times longer than the fastest. This could mean that an intermediate result is being cached.\n",
            "100000 loops, best of 5: 2.12 µs per loop\n"
          ]
        }
      ]
    },
    {
      "cell_type": "code",
      "source": [
        "#반복분  계산 2.12 µs  즉 마이크로 세컨드"
      ],
      "metadata": {
        "id": "9UZZwo7GDY_b"
      },
      "execution_count": null,
      "outputs": []
    },
    {
      "cell_type": "code",
      "source": [
        "%%timeit\n",
        "c = a* b\n",
        "c"
      ],
      "metadata": {
        "colab": {
          "base_uri": "https://localhost:8080/"
        },
        "id": "9yCdNHohDGl0",
        "outputId": "fd02fa0c-6b96-45d7-a336-16520cd50074"
      },
      "execution_count": null,
      "outputs": [
        {
          "output_type": "stream",
          "name": "stdout",
          "text": [
            "The slowest run took 121.57 times longer than the fastest. This could mean that an intermediate result is being cached.\n",
            "1000000 loops, best of 5: 569 ns per loop\n"
          ]
        }
      ]
    },
    {
      "cell_type": "code",
      "source": [
        "#벡터 연산은 568 ns 나노세컨드\n",
        "# 즉 벡터 연산이 쉽고 빠르다"
      ],
      "metadata": {
        "id": "CBXUThtsDMjE"
      },
      "execution_count": null,
      "outputs": []
    },
    {
      "cell_type": "markdown",
      "source": [
        "##데이터 shape종류\n",
        "0차원 : scalar (7)\n",
        "\n",
        "1차원 : vector ([1,1])\n",
        "\n",
        "2차원 : matrix([1,1],[2,2])\n",
        "\n",
        "3차원 : 3-tensor([[[1,2,3],[4,5,6]] , [[7,8,9], [10,11,12]]])\n",
        "\n",
        "n차원 : n-tensor"
      ],
      "metadata": {
        "id": "aM-HFeBVKi_A"
      }
    },
    {
      "cell_type": "markdown",
      "source": [
        "넘파이 차원 변경"
      ],
      "metadata": {
        "id": "ScJZN2nmMaOJ"
      }
    },
    {
      "cell_type": "code",
      "source": [
        "a= np.arange(6)\n",
        "a"
      ],
      "metadata": {
        "colab": {
          "base_uri": "https://localhost:8080/"
        },
        "id": "k1OszzxsDwZC",
        "outputId": "1c11236e-6024-46b9-cb96-63ee67e7e8d8"
      },
      "execution_count": null,
      "outputs": [
        {
          "output_type": "execute_result",
          "data": {
            "text/plain": [
              "array([0, 1, 2, 3, 4, 5])"
            ]
          },
          "metadata": {},
          "execution_count": 41
        }
      ]
    },
    {
      "cell_type": "code",
      "source": [
        "a2=a[np.newaxis, :]\n",
        "a2"
      ],
      "metadata": {
        "colab": {
          "base_uri": "https://localhost:8080/"
        },
        "id": "mvQIr-QMMTg9",
        "outputId": "904fdb92-3ec3-4f18-dea4-91e8417342c8"
      },
      "execution_count": null,
      "outputs": [
        {
          "output_type": "execute_result",
          "data": {
            "text/plain": [
              "array([[0, 1, 2, 3, 4, 5]])"
            ]
          },
          "metadata": {},
          "execution_count": 43
        }
      ]
    },
    {
      "cell_type": "code",
      "source": [
        "#차원을  확인하면 1차원, 2차원\n",
        "a.shape, a2.shape"
      ],
      "metadata": {
        "colab": {
          "base_uri": "https://localhost:8080/"
        },
        "id": "Fr3yGBcFMvGU",
        "outputId": "77c9339e-0dd1-40cb-a513-de95d376b421"
      },
      "execution_count": null,
      "outputs": [
        {
          "output_type": "execute_result",
          "data": {
            "text/plain": [
              "((6,), (1, 6))"
            ]
          },
          "metadata": {},
          "execution_count": 45
        }
      ]
    },
    {
      "cell_type": "markdown",
      "source": [
        "###파이썬은 배열에 다양한 자료형을 포함 할수 있다\n",
        "###그러난 넘파이는 배열에 동일 유형만 가능 하다"
      ],
      "metadata": {
        "id": "gLQasWPlNw0Y"
      }
    },
    {
      "cell_type": "code",
      "source": [
        "a_list=[1,2,\"3\",4.]\n",
        "a_list"
      ],
      "metadata": {
        "colab": {
          "base_uri": "https://localhost:8080/"
        },
        "id": "_pVzQsVaNwHa",
        "outputId": "5ffb6f4c-7d62-42e0-e871-aedb46efe39b"
      },
      "execution_count": null,
      "outputs": [
        {
          "output_type": "execute_result",
          "data": {
            "text/plain": [
              "[1, 2, '3', 4.0]"
            ]
          },
          "metadata": {},
          "execution_count": 46
        }
      ]
    },
    {
      "cell_type": "code",
      "source": [
        "type(a_list)"
      ],
      "metadata": {
        "colab": {
          "base_uri": "https://localhost:8080/"
        },
        "id": "prApYpJxM4b9",
        "outputId": "9ee110b6-2aac-4c5b-e604-2ab67c11e626"
      },
      "execution_count": null,
      "outputs": [
        {
          "output_type": "execute_result",
          "data": {
            "text/plain": [
              "list"
            ]
          },
          "metadata": {},
          "execution_count": 48
        }
      ]
    },
    {
      "cell_type": "code",
      "source": [
        "#U32 문자형 타입\n",
        "np.array(a_list)"
      ],
      "metadata": {
        "colab": {
          "base_uri": "https://localhost:8080/"
        },
        "id": "V9kFgC9MOLAd",
        "outputId": "34ad3dee-9735-4831-8fcf-15d0dab28165"
      },
      "execution_count": null,
      "outputs": [
        {
          "output_type": "execute_result",
          "data": {
            "text/plain": [
              "array(['1', '2', '3', '4.0'], dtype='<U32')"
            ]
          },
          "metadata": {},
          "execution_count": 50
        }
      ]
    },
    {
      "cell_type": "code",
      "source": [
        "#배열\n",
        "a=np.array([1,2,3,4,5])\n",
        "a"
      ],
      "metadata": {
        "colab": {
          "base_uri": "https://localhost:8080/"
        },
        "id": "_aw37d48OXH0",
        "outputId": "d44e7f47-3bfa-4ef0-9291-4883dcd73cac"
      },
      "execution_count": null,
      "outputs": [
        {
          "output_type": "execute_result",
          "data": {
            "text/plain": [
              "array([1, 2, 3, 4, 5])"
            ]
          },
          "metadata": {},
          "execution_count": 52
        }
      ]
    },
    {
      "cell_type": "code",
      "source": [
        "a=np.array([[1,2,3,4],[5,6,7,8],[9,10,11,12]])\n",
        "a"
      ],
      "metadata": {
        "colab": {
          "base_uri": "https://localhost:8080/"
        },
        "id": "3nfW7K31O_q9",
        "outputId": "61debf8a-1838-4cf1-ad4f-434a426ad75d"
      },
      "execution_count": null,
      "outputs": [
        {
          "output_type": "execute_result",
          "data": {
            "text/plain": [
              "array([[ 1,  2,  3,  4],\n",
              "       [ 5,  6,  7,  8],\n",
              "       [ 9, 10, 11, 12]])"
            ]
          },
          "metadata": {},
          "execution_count": 54
        }
      ]
    },
    {
      "cell_type": "markdown",
      "source": [
        "###배열의 차원은  1차원 [ ] 2차원[ [  ] ] 3차원 [ [ [ ] ] ]"
      ],
      "metadata": {
        "id": "HQlgVIN3PZHZ"
      }
    },
    {
      "cell_type": "code",
      "source": [
        "#배열의 접근은 번호 한다\n",
        "a[0]"
      ],
      "metadata": {
        "colab": {
          "base_uri": "https://localhost:8080/"
        },
        "id": "vcc3BP6JPOy8",
        "outputId": "6dac6d03-e3c4-44bc-ee18-2462f897f876"
      },
      "execution_count": null,
      "outputs": [
        {
          "output_type": "execute_result",
          "data": {
            "text/plain": [
              "array([1, 2, 3, 4])"
            ]
          },
          "metadata": {},
          "execution_count": 56
        }
      ]
    },
    {
      "cell_type": "code",
      "source": [
        ""
      ],
      "metadata": {
        "id": "IS60C6bhP4fF"
      },
      "execution_count": null,
      "outputs": []
    }
  ]
}